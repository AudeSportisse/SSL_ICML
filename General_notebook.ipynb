{
 "cells": [
  {
   "cell_type": "code",
   "execution_count": null,
   "metadata": {
    "id": "vJfATRRPvg-a"
   },
   "outputs": [],
   "source": [
    "##Loading libraries\n",
    "\n",
    "import numpy as np\n",
    "import torch\n",
    "import torchvision\n",
    "import matplotlib.pyplot as plt\n",
    "%matplotlib inline\n",
    "\n",
    "import seaborn as sns\n",
    "\n",
    "\n",
    "import pandas as pd\n",
    "\n",
    "from torchvision import datasets\n",
    "from torchvision import transforms\n",
    "\n",
    "from torchvision import transforms\n",
    "\n",
    "import torch.optim as optim\n",
    "\n",
    "import random\n",
    "\n",
    "import pickle\n",
    "\n",
    "import copy"
   ]
  },
  {
   "cell_type": "code",
   "execution_count": null,
   "metadata": {
    "id": "8BiUxKyTvk7D"
   },
   "outputs": [],
   "source": [
    "path = 'saved_models'\n",
    "import os\n",
    "os.makedirs(path, exist_ok=True)"
   ]
  },
  {
   "cell_type": "code",
   "execution_count": null,
   "metadata": {
    "colab": {
     "base_uri": "https://localhost:8080/"
    },
    "id": "p2AAMwPHTJkI",
    "outputId": "68be7c0c-747f-43d9-9d95-68c15345b287"
   },
   "outputs": [
    {
     "name": "stdout",
     "output_type": "stream",
     "text": [
      "Looking in indexes: https://pypi.org/simple, https://us-python.pkg.dev/colab-wheels/public/simple/\n",
      "Collecting medmnist\n",
      "  Downloading medmnist-2.1.0-py3-none-any.whl (21 kB)\n",
      "Requirement already satisfied: scikit-image in /usr/local/lib/python3.8/dist-packages (from medmnist) (0.18.3)\n",
      "Requirement already satisfied: pandas in /usr/local/lib/python3.8/dist-packages (from medmnist) (1.3.5)\n",
      "Requirement already satisfied: tqdm in /usr/local/lib/python3.8/dist-packages (from medmnist) (4.64.1)\n",
      "Requirement already satisfied: torch in /usr/local/lib/python3.8/dist-packages (from medmnist) (1.13.1+cu116)\n",
      "Requirement already satisfied: Pillow in /usr/local/lib/python3.8/dist-packages (from medmnist) (7.1.2)\n",
      "Requirement already satisfied: numpy in /usr/local/lib/python3.8/dist-packages (from medmnist) (1.21.6)\n",
      "Requirement already satisfied: torchvision in /usr/local/lib/python3.8/dist-packages (from medmnist) (0.14.1+cu116)\n",
      "Requirement already satisfied: scikit-learn in /usr/local/lib/python3.8/dist-packages (from medmnist) (1.0.2)\n",
      "Collecting fire\n",
      "  Downloading fire-0.5.0.tar.gz (88 kB)\n",
      "\u001b[2K     \u001b[90m━━━━━━━━━━━━━━━━━━━━━━━━━━━━━━━━━━━━━━━━\u001b[0m \u001b[32m88.3/88.3 KB\u001b[0m \u001b[31m10.4 MB/s\u001b[0m eta \u001b[36m0:00:00\u001b[0m\n",
      "\u001b[?25h  Preparing metadata (setup.py) ... \u001b[?25l\u001b[?25hdone\n",
      "Requirement already satisfied: six in /usr/local/lib/python3.8/dist-packages (from fire->medmnist) (1.15.0)\n",
      "Requirement already satisfied: termcolor in /usr/local/lib/python3.8/dist-packages (from fire->medmnist) (2.2.0)\n",
      "Requirement already satisfied: pytz>=2017.3 in /usr/local/lib/python3.8/dist-packages (from pandas->medmnist) (2022.7)\n",
      "Requirement already satisfied: python-dateutil>=2.7.3 in /usr/local/lib/python3.8/dist-packages (from pandas->medmnist) (2.8.2)\n",
      "Requirement already satisfied: imageio>=2.3.0 in /usr/local/lib/python3.8/dist-packages (from scikit-image->medmnist) (2.9.0)\n",
      "Requirement already satisfied: scipy>=1.0.1 in /usr/local/lib/python3.8/dist-packages (from scikit-image->medmnist) (1.7.3)\n",
      "Requirement already satisfied: tifffile>=2019.7.26 in /usr/local/lib/python3.8/dist-packages (from scikit-image->medmnist) (2022.10.10)\n",
      "Requirement already satisfied: matplotlib!=3.0.0,>=2.0.0 in /usr/local/lib/python3.8/dist-packages (from scikit-image->medmnist) (3.2.2)\n",
      "Requirement already satisfied: PyWavelets>=1.1.1 in /usr/local/lib/python3.8/dist-packages (from scikit-image->medmnist) (1.4.1)\n",
      "Requirement already satisfied: networkx>=2.0 in /usr/local/lib/python3.8/dist-packages (from scikit-image->medmnist) (3.0)\n",
      "Requirement already satisfied: threadpoolctl>=2.0.0 in /usr/local/lib/python3.8/dist-packages (from scikit-learn->medmnist) (3.1.0)\n",
      "Requirement already satisfied: joblib>=0.11 in /usr/local/lib/python3.8/dist-packages (from scikit-learn->medmnist) (1.2.0)\n",
      "Requirement already satisfied: typing-extensions in /usr/local/lib/python3.8/dist-packages (from torch->medmnist) (4.4.0)\n",
      "Requirement already satisfied: requests in /usr/local/lib/python3.8/dist-packages (from torchvision->medmnist) (2.25.1)\n",
      "Requirement already satisfied: cycler>=0.10 in /usr/local/lib/python3.8/dist-packages (from matplotlib!=3.0.0,>=2.0.0->scikit-image->medmnist) (0.11.0)\n",
      "Requirement already satisfied: pyparsing!=2.0.4,!=2.1.2,!=2.1.6,>=2.0.1 in /usr/local/lib/python3.8/dist-packages (from matplotlib!=3.0.0,>=2.0.0->scikit-image->medmnist) (3.0.9)\n",
      "Requirement already satisfied: kiwisolver>=1.0.1 in /usr/local/lib/python3.8/dist-packages (from matplotlib!=3.0.0,>=2.0.0->scikit-image->medmnist) (1.4.4)\n",
      "Requirement already satisfied: idna<3,>=2.5 in /usr/local/lib/python3.8/dist-packages (from requests->torchvision->medmnist) (2.10)\n",
      "Requirement already satisfied: chardet<5,>=3.0.2 in /usr/local/lib/python3.8/dist-packages (from requests->torchvision->medmnist) (4.0.0)\n",
      "Requirement already satisfied: urllib3<1.27,>=1.21.1 in /usr/local/lib/python3.8/dist-packages (from requests->torchvision->medmnist) (1.24.3)\n",
      "Requirement already satisfied: certifi>=2017.4.17 in /usr/local/lib/python3.8/dist-packages (from requests->torchvision->medmnist) (2022.12.7)\n",
      "Building wheels for collected packages: fire\n",
      "  Building wheel for fire (setup.py) ... \u001b[?25l\u001b[?25hdone\n",
      "  Created wheel for fire: filename=fire-0.5.0-py2.py3-none-any.whl size=116949 sha256=42dacc7e07776c33ef6954ba2097ef90b6d4602af19fa91500c1982eb3774633\n",
      "  Stored in directory: /root/.cache/pip/wheels/5b/eb/43/7295e71293b218ddfd627f935229bf54af9018add7fbb5aac6\n",
      "Successfully built fire\n",
      "Installing collected packages: fire, medmnist\n",
      "Successfully installed fire-0.5.0 medmnist-2.1.0\n"
     ]
    }
   ],
   "source": [
    "!pip install medmnist\n",
    "import medmnist\n",
    "from medmnist import INFO, Evaluator"
   ]
  },
  {
   "cell_type": "code",
   "execution_count": null,
   "metadata": {
    "id": "hsm_kx19vlBY"
   },
   "outputs": [],
   "source": [
    "from utils import *\n",
    "from train import *\n",
    "from test import *\n",
    "from modelCNN import *"
   ]
  },
  {
   "cell_type": "code",
   "execution_count": null,
   "metadata": {
    "colab": {
     "base_uri": "https://localhost:8080/"
    },
    "id": "tLnMCI1ovn2k",
    "outputId": "e3617a05-37f4-4e47-f122-7f37454b7eef"
   },
   "outputs": [
    {
     "name": "stdout",
     "output_type": "stream",
     "text": [
      "Using gpu: False \n"
     ]
    }
   ],
   "source": [
    "device = torch.device(\"cuda:0\" if torch.cuda.is_available() else \"cpu\")\n",
    "\n",
    "print('Using gpu: %s ' % torch.cuda.is_available())"
   ]
  },
  {
   "cell_type": "code",
   "execution_count": null,
   "metadata": {
    "id": "nezzH0dKvptF"
   },
   "outputs": [],
   "source": [
    "seed = 0\n",
    "np.random.seed(seed)\n",
    "torch.manual_seed(seed)\n",
    "random.seed(seed)\n",
    "torch.cuda.seed()"
   ]
  },
  {
   "cell_type": "markdown",
   "metadata": {
    "id": "MMuFy77BTWN3"
   },
   "source": [
    "# Mnist or CIFAR 10\n"
   ]
  },
  {
   "cell_type": "code",
   "execution_count": null,
   "metadata": {
    "id": "uzEANSccvpUk"
   },
   "outputs": [],
   "source": [
    "dataset = \"MNIST\""
   ]
  },
  {
   "cell_type": "code",
   "execution_count": null,
   "metadata": {
    "id": "bhg7QdZhvsZc"
   },
   "outputs": [],
   "source": [
    "\n",
    "from torchvision import datasets\n",
    "import torchvision.transforms as transforms\n",
    "from torch.utils.data.sampler import SubsetRandomSampler\n",
    "\n",
    "batch_size_l = 72 \n",
    "batch_size_u = 400\n",
    "batch_size_t = 20\n",
    "valid_perc = 0.1 #percentage for valid set\n",
    "n_classes = 10\n",
    "\n",
    "mecha = \"MNAR\"\n",
    "compt_u = [400  ,517 , 667 , 862, 1113 ,1438 ,1857 ,2398 ,3097 ,4000] #[2000,2000,2000,2000,3000,3000,500,600,  200,300] #[4000, 3540, 3134, 2773, 2455, 2173, 1923, 1702, 1506, 1333]#[2000 ,1852, 1714, 1587 ,1470, 1361, 1260, 1167 ,1080 ,1000]#[50 ,32 ,21, 14, 9, 6, 4, 2 ,2, 1 ] #[4000, 3345, 2797, 2339, 1956, 1636 ,1368 ,1144 , 957 , 800]#[4000, 2398, 1438,  862 , 517 , 310  ,186  ,111   ,67 ,  40]#[400 ,310, 240 ,186 ,144 ,111 , 86  ,67 , 52 , 40] #[300  ,387 , 500 , 646,  835, 1078, 1392, 1798, 2323, 3000] #\n",
    "compt = [400 ,310, 240, 186, 144 ,111 , 86 , 67 , 52 , 40]#[400 ,100 ,200, 50, 400 ,100 ,300 ,50 ,100, 300]#[800, 200 ,400 ,100 ,800 ,200 ,600 ,100 ,200 ,600]#[400 ,100 ,200, 50, 400 ,100 ,300 ,50 ,100, 300]#[3000,1636,2000,2444,1000,300,1500,1200,  1200, 2700]#[100, 114, 131, 149, 171, 195, 223, 255, 292, 333]#[2000, 2214, 2452 ,2714, 3005, 3327, 3684 ,4079, 4516, 5000] #None #[100 ,114, 131, 149, 171, 195, 223 ,255, 292, 333]\n",
    "valid_num = 400\n",
    "\n",
    "##### CIFAR10\n",
    "\n",
    "if dataset == \"CIFAR10\":\n",
    "    transform = transforms.Compose([\n",
    "      transforms.ToTensor(),\n",
    "      transforms.Normalize([125.3/ 255, 123.0/ 255, 113.9/ 255], [63.0/ 255, 62.1/ 255, 66.7/ 255])\n",
    "      ])\n",
    "    init_channel = 3\n",
    "\n",
    "##### MNIST\n",
    "\n",
    "if dataset == \"MNIST\":\n",
    "    transform = transforms.Compose([\n",
    "                transforms.ToTensor(), \n",
    "                transforms.Normalize((0.5,), (1.0,))])\n",
    "    init_channel = 1\n",
    "\n",
    "#########################\n",
    "##### Load the data #####\n",
    "#########################\n",
    "\n",
    "##### CIFAR10\n",
    "\n",
    "if dataset == \"CIFAR10\":\n",
    "    train_data = datasets.CIFAR10('data', train=True,\n",
    "                                download=True, transform=transform)\n",
    "    test_data = datasets.CIFAR10('data', train=False,\n",
    "                              download=True, transform=transform)\n",
    "\n",
    "##### MNIST\n",
    "\n",
    "if dataset == \"MNIST\":\n",
    "    train_data = datasets.MNIST(root = \"data\",train = True,\n",
    "                              download = True, transform = transform)\n",
    "    test_data = datasets.MNIST(root = \"data\",train = False,\n",
    "                            download = True, transform = transform)\n",
    "    \n",
    "if dataset == \"CIFAR10\":\n",
    "  classes = ['plane', 'auto', 'bird', 'cat', 'deer',\n",
    "            'dog', 'frog', 'horse', 'ship', 'truck']\n",
    "\n",
    "if dataset == \"MNIST\":\n",
    "  classes = ['0', '1', '2', '3', '4', '5', '6', '7', '8', '9']\n",
    "\n",
    "\n",
    "labeled_idx, valid_idx, unlabeled_idx = sample_labeled_data(train_data.data,np.array(train_data.targets),compt,valid_num,10,compt_u)\n",
    "train_idx = labeled_idx + unlabeled_idx\n",
    "\n",
    "#######################\n",
    "##### Dataloaders #####\n",
    "#######################\n",
    "\n",
    "train_sampler = SubsetRandomSampler(train_idx)\n",
    "valid_sampler = SubsetRandomSampler(valid_idx)\n",
    "labeled_sampler = SubsetRandomSampler(labeled_idx)\n",
    "unlabeled_sampler = SubsetRandomSampler(unlabeled_idx)\n",
    "\n",
    "train_loader = torch.utils.data.DataLoader(train_data, batch_size=batch_size_u,\n",
    "    sampler=train_sampler)\n",
    "labeled_loader = torch.utils.data.DataLoader(train_data, batch_size=batch_size_l,\n",
    "    sampler=labeled_sampler)\n",
    "unlabeled_loader = torch.utils.data.DataLoader(train_data, batch_size=batch_size_u,\n",
    "    sampler=unlabeled_sampler)\n",
    "valid_loader = torch.utils.data.DataLoader(train_data, batch_size=batch_size_l, \n",
    "    sampler=valid_sampler)\n",
    "test_loader = torch.utils.data.DataLoader(test_data, batch_size=batch_size_t)"
   ]
  },
  {
   "cell_type": "code",
   "execution_count": null,
   "metadata": {
    "colab": {
     "base_uri": "https://localhost:8080/"
    },
    "id": "maS6FJIwv2op",
    "outputId": "d3a8b15b-51a1-486d-a6cd-168dc25e350b"
   },
   "outputs": [
    {
     "data": {
      "text/plain": [
       "[0.5, 0.3748, 0.2646, 0.1775, 0.1146, 0.0717, 0.0443, 0.0272, 0.0165, 0.0099]"
      ]
     },
     "execution_count": 27,
     "metadata": {},
     "output_type": "execute_result"
    }
   ],
   "source": [
    "compt = [0]*n_classes\n",
    "for u in range(n_classes):\n",
    "    for idx in labeled_idx: \n",
    "        if train_data.targets[idx]==u:\n",
    "            compt[u]+=1\n",
    "\n",
    "compt_un = [0]*n_classes\n",
    "for u in range(n_classes):\n",
    "    for idx in unlabeled_idx: \n",
    "        if train_data.targets[idx]==u:\n",
    "            compt_un[u]+=1\n",
    "prob_true = []\n",
    "for u in range(n_classes):\n",
    "    prob_true+=[round(compt[u]/(compt_un[u]+compt[u]),4)]\n",
    "\n",
    "prob_true\n",
    "\n"
   ]
  },
  {
   "cell_type": "code",
   "execution_count": null,
   "metadata": {
    "colab": {
     "base_uri": "https://localhost:8080/",
     "height": 239
    },
    "id": "ga4GPvsBv5Dr",
    "outputId": "e207cfa8-2c5f-4140-9fc7-45fe21f72f9a"
   },
   "outputs": [
    {
     "data": {
      "application/vnd.google.colaboratory.intrinsic+json": {
       "type": "string"
      },
      "text/plain": [
       "''"
      ]
     },
     "execution_count": 28,
     "metadata": {},
     "output_type": "execute_result"
    },
    {
     "data": {
      "image/png": "[encoded data removed]",
      "text/plain": [
       "<Figure size 432x216 with 1 Axes>"
      ]
     },
     "metadata": {},
     "output_type": "display_data"
    }
   ],
   "source": [
    "from matplotlib import rcParams\n",
    "\n",
    "# figure size in inches\n",
    "rcParams['figure.figsize'] = 6 , 3\n",
    "sns.set(font_scale = 1.5)\n",
    "\n",
    "plt.figure(figsize=(6 , 3))\n",
    "y_u=[classes[train_data.targets[idx]] for idx in unlabeled_idx]\n",
    "y_l=[classes[train_data.targets[idx]] for idx in labeled_idx]\n",
    "y_val=[classes[train_data.targets[idx]] for idx in valid_idx]\n",
    "y_plot=np.concatenate((y_l,y_u),axis=0)\n",
    "r_plot=np.concatenate((np.repeat(\"labeled\", len(y_l),axis=0),np.repeat(\"unlabeled\", len(y_u),axis=0)),axis=0)\n",
    "ax = sns.countplot(x=y_plot, hue=r_plot, palette = sns.color_palette(\"Oranges\",n_colors=2),order=classes)\n",
    ";"
   ]
  },
  {
   "cell_type": "markdown",
   "metadata": {
    "id": "RkJA3a6hTe8M"
   },
   "source": [
    "# medMNIST"
   ]
  },
  {
   "cell_type": "code",
   "execution_count": null,
   "metadata": {
    "id": "s2IxZeFQTaqk"
   },
   "outputs": [],
   "source": [
    "from torchvision import datasets\n",
    "import torchvision.transforms as transforms\n",
    "from torch.utils.data.sampler import SubsetRandomSampler\n",
    "\n",
    "batch_size_l = 63 #test 60 #64 (change 16/01)\n",
    "batch_size_u = 128 #test 600 #128 (change 16/01)\n",
    "batch_size_t = 20\n",
    "valid_perc = 0.1 #percentage for valid set\n",
    "\n",
    "mecha = \"MNAR\""
   ]
  },
  {
   "cell_type": "code",
   "execution_count": null,
   "metadata": {
    "id": "S4Va_AIVTjbC"
   },
   "outputs": [],
   "source": [
    "data_flag = \"dermamnist\"\n",
    "# data_flag = 'breastmnist'\n",
    "download = True\n",
    "\n",
    "info = INFO[data_flag]\n",
    "task = info['task']\n",
    "n_channels = info['n_channels']\n",
    "n_classes = len(info['label'])\n",
    "\n",
    "DataClass = getattr(medmnist, info['python_class'])"
   ]
  },
  {
   "cell_type": "code",
   "execution_count": null,
   "metadata": {
    "colab": {
     "base_uri": "https://localhost:8080/",
     "height": 105,
     "referenced_widgets": [
      "331cd3d57a904f09a072c75421c4379c",
      "ed7d98cc5c1f4cfc83009119f199e388",
      "1c9d99564d1947119b5b822ca6e40bd6",
      "1141c4cd10a9464ba18429a9a347db0e",
      "252d5eddfb214044ba4b80dadb80ae83",
      "d708e3408cf3450abc9475901aa312e6",
      "385056996a84445d8a59f76b44be4529",
      "d64f8af7d78449eca6c8194ebf0d70ab",
      "c0268d02be0e445283d4fb90d7d47db4",
      "564d1530f430491f800e3955722bccd7",
      "f2c9f791070640c28216e03432c60ba7"
     ]
    },
    "id": "UxTSVznyUIKS",
    "outputId": "e8144de2-8664-4220-e608-5f7298c2f352"
   },
   "outputs": [
    {
     "name": "stdout",
     "output_type": "stream",
     "text": [
      "Downloading https://zenodo.org/record/6496656/files/dermamnist.npz?download=1 to /root/.medmnist/dermamnist.npz\n"
     ]
    },
    {
     "data": {
      "application/vnd.jupyter.widget-view+json": {
       "model_id": "331cd3d57a904f09a072c75421c4379c",
       "version_major": 2,
       "version_minor": 0
      },
      "text/plain": [
       "  0%|          | 0/19725078 [00:00<?, ?it/s]"
      ]
     },
     "metadata": {},
     "output_type": "display_data"
    },
    {
     "name": "stdout",
     "output_type": "stream",
     "text": [
      "Using downloaded and verified file: /root/.medmnist/dermamnist.npz\n"
     ]
    }
   ],
   "source": [
    "# preprocessing\n",
    "data_transform = transforms.Compose([\n",
    "    transforms.ToTensor(),\n",
    "    transforms.Normalize(mean=[.5], std=[.5])\n",
    "])\n",
    "\n",
    "# load the data\n",
    "train_data = DataClass(split='train', transform=data_transform, download=download)\n",
    "test_data = DataClass(split='test', transform=data_transform, download=download)"
   ]
  },
  {
   "cell_type": "code",
   "execution_count": null,
   "metadata": {
    "colab": {
     "base_uri": "https://localhost:8080/"
    },
    "id": "2blzpBUwUJ6O",
    "outputId": "25b92557-e5b1-49bb-ca79-fd7b505a09bf"
   },
   "outputs": [
    {
     "data": {
      "text/plain": [
       "[228, 359, 769, 80, 779, 4693, 99]"
      ]
     },
     "execution_count": 11,
     "metadata": {},
     "output_type": "execute_result"
    }
   ],
   "source": [
    "number_per_class = [0]*n_classes\n",
    "for u in range(n_classes):\n",
    "    for v in range(len(train_data.labels)):\n",
    "        if train_data.labels[v]==u:\n",
    "            number_per_class[u]+=1\n",
    "number_per_class"
   ]
  },
  {
   "cell_type": "code",
   "execution_count": null,
   "metadata": {
    "id": "mgYaneEDUMQe"
   },
   "outputs": [],
   "source": [
    "number_per_class_test = [0]*n_classes\n",
    "for u in range(n_classes):\n",
    "    for v in range(len(test_data.labels)):\n",
    "        if test_data.labels[v]==u:\n",
    "            number_per_class_test[u]+=1\n",
    "number_per_class_test\n",
    "py_test=[number_per_class_test[u]/sum(number_per_class_test) for u in range(len(number_per_class_test))]"
   ]
  },
  {
   "cell_type": "code",
   "execution_count": null,
   "metadata": {
    "id": "jQ-x8o39Ulaf"
   },
   "outputs": [],
   "source": [
    "compt = [70]*7#[100,250,500,40,550,2000,50]\n",
    "#compt = [int(number_per_class[u]*0.3) for u in range(n_classes)] ##MCAR"
   ]
  },
  {
   "cell_type": "code",
   "execution_count": null,
   "metadata": {
    "id": "g21NQabkUnjn"
   },
   "outputs": [],
   "source": [
    "valid_num = 9*n_classes\n",
    "\n",
    "labeled_idx, valid_idx, unlabeled_idx = sample_labeled_data(train_data.imgs,np.array(train_data.labels),compt,valid_num,n_classes,py=py_test)#,compt_u)\n",
    "train_idx = labeled_idx + unlabeled_idx\n",
    "\n",
    "#######################\n",
    "##### Dataloaders #####\n",
    "#######################\n",
    "\n",
    "train_sampler = SubsetRandomSampler(train_idx)\n",
    "valid_sampler = SubsetRandomSampler(valid_idx)\n",
    "labeled_sampler = SubsetRandomSampler(labeled_idx)\n",
    "unlabeled_sampler = SubsetRandomSampler(unlabeled_idx)\n",
    "\n",
    "train_loader = torch.utils.data.DataLoader(train_data, batch_size=batch_size_u,\n",
    "    sampler=train_sampler)\n",
    "labeled_loader = torch.utils.data.DataLoader(train_data, batch_size=batch_size_l,\n",
    "    sampler=labeled_sampler)\n",
    "unlabeled_loader = torch.utils.data.DataLoader(train_data, batch_size=batch_size_u,\n",
    "    sampler=unlabeled_sampler)\n",
    "valid_loader = torch.utils.data.DataLoader(train_data, batch_size=batch_size_l, \n",
    "    sampler=valid_sampler)\n",
    "test_loader = torch.utils.data.DataLoader(test_data, batch_size=batch_size_t)"
   ]
  },
  {
   "cell_type": "code",
   "execution_count": null,
   "metadata": {
    "colab": {
     "base_uri": "https://localhost:8080/"
    },
    "id": "q4xyH1SjU7OA",
    "outputId": "22efc17f-fa85-4106-9979-c850f04d6659"
   },
   "outputs": [
    {
     "data": {
      "text/plain": [
       "[0.3097, 0.1966, 0.0917, 0.875, 0.0907, 0.0151, 0.7071]"
      ]
     },
     "execution_count": 15,
     "metadata": {},
     "output_type": "execute_result"
    }
   ],
   "source": [
    "prob_true = []\n",
    "for u in range(n_classes):\n",
    "    prob_true+=[round(compt[u]/(compt_un[u]+compt[u]),4)]\n",
    "\n",
    "prob_true\n",
    "\n"
   ]
  },
  {
   "cell_type": "code",
   "execution_count": null,
   "metadata": {
    "id": "WjYuRjP0U9DQ"
   },
   "outputs": [],
   "source": [
    "classes = ['0', '1', '2', '3', '4', '5', '6']"
   ]
  },
  {
   "cell_type": "code",
   "execution_count": null,
   "metadata": {
    "colab": {
     "base_uri": "https://localhost:8080/",
     "height": 494
    },
    "id": "1SfkmryiVFJV",
    "outputId": "07f25b03-c144-4dc1-cde5-e776513e95ac"
   },
   "outputs": [
    {
     "data": {
      "application/vnd.google.colaboratory.intrinsic+json": {
       "type": "string"
      },
      "text/plain": [
       "''"
      ]
     },
     "execution_count": 17,
     "metadata": {},
     "output_type": "execute_result"
    },
    {
     "data": {
      "image/png": "[encoded data removed]",
      "text/plain": [
       "<Figure size 864x576 with 1 Axes>"
      ]
     },
     "metadata": {},
     "output_type": "display_data"
    }
   ],
   "source": [
    "from matplotlib import rcParams\n",
    "\n",
    "# figure size in inches\n",
    "rcParams['figure.figsize'] = 10, 5\n",
    "sns.set(font_scale = 2)\n",
    "\n",
    "plt.figure(figsize=(12,8))\n",
    "y_u=[classes[train_data.labels[idx][0]] for idx in unlabeled_idx]\n",
    "y_l=[classes[train_data.labels[idx][0]] for idx in labeled_idx]\n",
    "y_val=[classes[train_data.labels[idx][0]] for idx in valid_idx]\n",
    "y_plot=np.concatenate((y_l,y_u),axis=0)\n",
    "r_plot=np.concatenate((np.repeat(\"labeled\", len(y_l),axis=0),np.repeat(\"unlabeled\", len(y_u),axis=0)),axis=0)\n",
    "ax = sns.countplot(x=y_plot, hue=r_plot, palette = sns.color_palette(\"Oranges\",n_colors=2),order=classes)\n",
    ";"
   ]
  },
  {
   "cell_type": "markdown",
   "metadata": {
    "id": "7_SGyw6AU-AU"
   },
   "source": [
    "# Model initialization"
   ]
  },
  {
   "cell_type": "code",
   "execution_count": null,
   "metadata": {
    "id": "G_1j6MngAVHQ"
   },
   "outputs": [],
   "source": [
    "###CHOOSE YOUR MODEL\n",
    "model_init = medNet(n_channels, n_classes)\n",
    "model = Net()\n",
    "model_init = get_weights_copy(model_init,'model_init')"
   ]
  },
  {
   "cell_type": "code",
   "execution_count": null,
   "metadata": {
    "colab": {
     "base_uri": "https://localhost:8080/"
    },
    "id": "egFx8nFbv6qK",
    "outputId": "a8c1d07d-e510-4c2c-ef19-0acc8dbf5c06"
   },
   "outputs": [
    {
     "name": "stdout",
     "output_type": "stream",
     "text": [
      "Size of the train set: 17985\n",
      "Size of the labeled set: 1636\n",
      "Size of the unlabeled set: 16349\n",
      "Size of the valid set: 400\n",
      "Size of the test set: 10000\n",
      "Percentage of labeled data: 0.09096469279955519\n"
     ]
    }
   ],
   "source": [
    "print('Size of the train set:', len(unlabeled_idx)+len(labeled_idx))\n",
    "print('Size of the labeled set:', len(labeled_sampler))\n",
    "print('Size of the unlabeled set:', len(unlabeled_sampler))\n",
    "print('Size of the valid set:', len(valid_idx))\n",
    "print('Size of the test set:', len(test_data))\n",
    "\n",
    "perc_lab = len(labeled_sampler)/(len(unlabeled_idx)+len(labeled_idx))\n",
    "print('Percentage of labeled data:', perc_lab)\n",
    "\n",
    "n_glob = len(labeled_idx)+len(unlabeled_idx) #-len(valid_idx)\n",
    "nl_glob = len(labeled_sampler)\n",
    "nu_glob = len(unlabeled_idx)"
   ]
  },
  {
   "cell_type": "code",
   "execution_count": null,
   "metadata": {
    "colab": {
     "base_uri": "https://localhost:8080/"
    },
    "id": "DMja1wI3pzHB",
    "outputId": "14ecc654-4194-485b-a4af-d79f8fc37774"
   },
   "outputs": [
    {
     "data": {
      "text/plain": [
       "[0.033, 0.051, 0.11, 0.012, 0.111, 0.669, 0.014]"
      ]
     },
     "execution_count": 20,
     "metadata": {},
     "output_type": "execute_result"
    }
   ],
   "source": [
    "[round((compt_un[u]+compt[u])/n_glob,3) for u in range(n_classes)]"
   ]
  },
  {
   "cell_type": "code",
   "execution_count": null,
   "metadata": {
    "colab": {
     "base_uri": "https://localhost:8080/"
    },
    "id": "LMzgKNxIlKgk",
    "outputId": "94ef595d-9b3d-47dd-d215-1cf486e39210"
   },
   "outputs": [
    {
     "data": {
      "text/plain": [
       "[0.02245573628904563,\n",
       " 0.041168849863250326,\n",
       " 0.0997552900532604,\n",
       " 0.0014394702749388226,\n",
       " 0.10105081330070534,\n",
       " 0.6594213329494746,\n",
       " 0.004174463797322585]"
      ]
     },
     "execution_count": 21,
     "metadata": {},
     "output_type": "execute_result"
    }
   ],
   "source": [
    "[(compt_un[u])/n_glob for u in range(n_classes)]"
   ]
  },
  {
   "cell_type": "code",
   "execution_count": null,
   "metadata": {
    "colab": {
     "base_uri": "https://localhost:8080/"
    },
    "id": "dEhNURbplMpP",
    "outputId": "d697525d-026e-4363-940b-86aa9ac5a644"
   },
   "outputs": [
    {
     "data": {
      "text/plain": [
       "[0.010076291924571757,\n",
       " 0.010076291924571757,\n",
       " 0.010076291924571757,\n",
       " 0.010076291924571757,\n",
       " 0.010076291924571757,\n",
       " 0.010076291924571757,\n",
       " 0.010076291924571757]"
      ]
     },
     "execution_count": 22,
     "metadata": {},
     "output_type": "execute_result"
    }
   ],
   "source": [
    "[(compt[u])/n_glob for u in range(n_classes)]"
   ]
  },
  {
   "cell_type": "code",
   "execution_count": null,
   "metadata": {
    "id": "mBMgsyE5MTja"
   },
   "outputs": [],
   "source": [
    "pred_for_new = compt\n",
    "pred_for_new = torch.tensor(pred_for_new).to(device)"
   ]
  },
  {
   "cell_type": "code",
   "execution_count": null,
   "metadata": {
    "colab": {
     "base_uri": "https://localhost:8080/"
    },
    "id": "w7OhU2gt8oDX",
    "outputId": "248b2b5c-2e53-4a7a-e827-dca8a69993fe"
   },
   "outputs": [
    {
     "data": {
      "text/plain": [
       "[0.03253202821361739,\n",
       " 0.05124514178782208,\n",
       " 0.10983158197783216,\n",
       " 0.01151576219951058,\n",
       " 0.11112710522527709,\n",
       " 0.6694976248740464,\n",
       " 0.014250755721894343]"
      ]
     },
     "execution_count": 24,
     "metadata": {},
     "output_type": "execute_result"
    }
   ],
   "source": [
    "py_true = [(compt_un[u]+compt[u])/n_glob for u in range(n_classes)] \n",
    "py_true"
   ]
  },
  {
   "cell_type": "markdown",
   "metadata": {
    "id": "gt4yukfHAZnQ"
   },
   "source": [
    "# Estimation mécanisme\n"
   ]
  },
  {
   "cell_type": "code",
   "execution_count": null,
   "metadata": {
    "id": "Up4qfLyjS4Ag"
   },
   "outputs": [],
   "source": [
    "from estim_mechanism_likelihood import *"
   ]
  },
  {
   "cell_type": "code",
   "execution_count": null,
   "metadata": {
    "colab": {
     "base_uri": "https://localhost:8080/"
    },
    "id": "gSuZsjKmS6xq",
    "outputId": "586b14ae-06cc-4b46-c591-e4354e8f9699"
   },
   "outputs": [
    {
     "name": "stdout",
     "output_type": "stream",
     "text": [
      "Looking in indexes: https://pypi.org/simple, https://us-python.pkg.dev/colab-wheels/public/simple/\n",
      "Collecting mdmm\n",
      "  Downloading mdmm-0.1.3-py3-none-any.whl (5.7 kB)\n",
      "Requirement already satisfied: torch>=1.7.1 in /usr/local/lib/python3.8/dist-packages (from mdmm) (1.13.1+cu116)\n",
      "Requirement already satisfied: typing-extensions in /usr/local/lib/python3.8/dist-packages (from torch>=1.7.1->mdmm) (4.4.0)\n",
      "Installing collected packages: mdmm\n",
      "Successfully installed mdmm-0.1.3\n"
     ]
    }
   ],
   "source": [
    "!pip install mdmm"
   ]
  },
  {
   "cell_type": "code",
   "execution_count": null,
   "metadata": {},
   "outputs": [],
   "source": [
    "model = medNet(n_channels, n_classes)\n",
    "#model = Net()\n",
    "model.to(device)\n",
    "model_min = get_weights_copy(model,'save')\n",
    "model_min_acc = get_weights_copy(model,'save')\n",
    "\n",
    "lr_data = 0.0003\n",
    "lr_mecha = 0.001\n",
    "\n",
    "dis = torch.distributions.normal.Normal(loc=0, scale=1)\n",
    "psi = dis.icdf(torch.tensor([perc_lab]*n_classes))\n",
    "psi = psi.to(device)\n",
    "print(mean_squared_error(prob_true,sigmoid(psi).detach().cpu().numpy()))\n",
    "psi.requires_grad=True\n",
    "\n",
    "optimizer_data = optim.Adam(model.parameters(), lr=lr_data)\n",
    "\n",
    "import mdmm\n",
    "constraints = []\n",
    "constraints.append(mdmm.EqConstraint(lambda: sum(pred_for_new/n_glob*(1/sigmoid(psi))), 1, scale=10))\n",
    "mdmm_module = mdmm.MDMM(constraints)\n",
    "optimizer_mecha = mdmm_module.make_optimizer([psi],optimizer=torch.optim.Adam, lr=lr_mecha)\n",
    "\n",
    "logger = None\n",
    "\n",
    "###########\n",
    "###########\n",
    "\n",
    "nb_epoch_estim = 2\n",
    "\n",
    "valid_loss_min = 100000\n",
    "valid_accuracy_max = 0\n",
    "\n",
    "train_loss_list = []\n",
    "train_loss_mecha_list = []\n",
    "valid_loss_list = []\n",
    "valid_accuracy_list = []\n",
    "psi_list = []\n",
    "psi_error = 1000\n",
    "diff_error_list_all = []\n",
    "psi1_list = []\n",
    "psi2_list = []\n",
    "\n",
    "meca_save_loss = None\n",
    "meca_save_acc = None\n",
    "epoch_acc = 0\n",
    "\n",
    "pred_l_save = None\n",
    "pred_u_save = None\n",
    "target_l_all = None\n",
    "\n",
    "validation_loss_mean = []\n",
    "psi_before = sigmoid(psi.detach()).cpu().numpy()\n",
    "diff_error_list_all = []\n",
    "\n",
    "for epoch in range(200):\n",
    "    print(\"Epoch:\", epoch)\n",
    "\n",
    "    psi_error, psi_list, train_loss_list,train_loss_mecha_list,valid_loss_list,valid_accuracy_list,valid_loss_min,valid_accuracy_max,model_min,model_min_acc, meca_save_acc,meca_save_loss,epoch_acc, validation_loss_mean = estim_mecha2(epoch,logger,nb_epoch_estim,model,psi,model_min,model_min_acc,device,optimizer_data,optimizer_mecha,prob_true,psi_list,train_loss_list,train_loss_mecha_list,valid_loss_list,valid_accuracy_list,valid_loss_min,valid_accuracy_max,labeled_loader,valid_loader,unlabeled_loader,save_path=\"saved_models\",save_name='save', validation=True,meca_save_acc=meca_save_acc,meca_save_loss=meca_save_loss,epoch_acc=epoch_acc,validation_loss_mean=validation_loss_mean)\n",
    "    psi1_list += [sigmoid(psi).detach().cpu().numpy()[0]]\n",
    "    psi2_list += [sigmoid(psi).detach().cpu().numpy()[1]]\n",
    "    diff_error = mean_squared_error(psi_before,sigmoid(psi).detach().cpu().numpy())\n",
    "    if epoch % 2 == 0:\n",
    "        diff_error_list_all += [diff_error]\n",
    "    \n",
    "    psi_current = sigmoid(psi).detach().cpu()\n",
    "    \n",
    "    print(sum((torch.tensor(prob_true)-torch.tensor(psi_current))**2/sum(torch.tensor(prob_true)**2)))\n",
    "    print(\"psi\",sigmoid(psi))\n",
    "    print(sum(pred_for_new/n_glob*(1/sigmoid(psi))))"
   ]
  },
  {
   "cell_type": "markdown",
   "metadata": {
    "id": "eU0K6b8RAv1f"
   },
   "source": [
    "# Train model SSL"
   ]
  },
  {
   "cell_type": "code",
   "execution_count": null,
   "metadata": {},
   "outputs": [],
   "source": [
    "#model = Net()\n",
    "model = medNet(n_channels, n_classes)\n",
    "model = model.to(device)\n",
    "model.load_state_dict(model_init)\n",
    "\n",
    "model_min = get_weights_copy(model,'save')\n",
    "model_min_acc = get_weights_copy(model,'save')\n",
    "\n",
    "\n",
    "#optimizer = optim.SGD(model.parameters(), lr=0.003, momentum=0.9)\n",
    "optimizer = optim.Adam(model.parameters(), lr=0.0001)\n",
    "\n",
    "valid_loss_min = 100000\n",
    "valid_accuracy_max = 0\n",
    "\n",
    "train_loss_list = []\n",
    "train_loss_l_list = []\n",
    "train_loss_u_list = []\n",
    "valid_loss_list = []\n",
    "valid_accuracy_list = []\n",
    "\n",
    "\n",
    "nb_epoch = 500\n",
    "\n",
    "\n",
    "prob_MCAR = [perc_lab]*n_classes\n",
    "prob_res = prob_MCAR\n",
    "\n",
    "logger = None\n",
    "\n",
    "py_res = [1/n_classes]*n_classes\n",
    "\n",
    "mse_list = []\n",
    "mse_list_py = []\n",
    "list_cutoff = []\n",
    "\n",
    "py_true = [(compt_un[u]+compt[u])/n_glob for u in range(n_classes)] \n",
    "\n",
    "dic_sav = []\n",
    "\n",
    "estim = 'SSL_withoutgrad'\n",
    "cutoff_meth = \"meca\"\n",
    "###meca = ####give estimated mechanism\n",
    "if estim != 'SSL_oldmeca':\n",
    "    meca = None\n",
    "\n",
    "epoch_loss_min = 0\n",
    "epoch_accuracy_max = 0\n",
    "mse_min = 10000\n",
    "\n",
    "for epoch in range(nb_epoch):\n",
    "\n",
    "    prob = torch.tensor(prob_res).to(device)\n",
    "    p_in = torch.tensor(py_res).to(device)\n",
    "\n",
    "    print(\"Epoch:\", epoch)\n",
    "    train_loss,train_loss_l,train_loss_u,valid_loss,valid_accuracy,valid_loss_min,valid_accuracy_max,model_min,model_min_acc,py_res,prob_res, save_perc, p_cutoff, epoch_loss_min, epoch_accuracy_max = train(epoch,logger,model,model_min,model_min_acc,device,optimizer,estim,valid_loss_min,valid_accuracy_max,labeled_loader,valid_loader,\n",
    "          n_glob,nl_glob, save_path=\"saved_models\",save_name='save', loader_u=unlabeled_loader,prob=prob,method=\"PL\",lamb=1,p_in=p_in,pred_for_new=pred_for_new,n_classes=n_classes,cutoff_meth=cutoff_meth,epoch_loss_min=epoch_loss_min,epoch_accuracy_max=epoch_accuracy_max,meca=meca)\n",
    "  \n",
    "\n",
    "    print(\"mechanism: %s\", prob_res)\n",
    "    \n",
    "    mse = sum((torch.tensor(prob_true)-torch.tensor(prob_res))**2/sum(torch.tensor(prob_true)**2))\n",
    "    print('Mean squared error probMNAR: %s', mse)\n",
    "    mse_list += [mse]\n",
    "\n",
    "    print('Mean squared error py: %s', mean_squared_error(py_true,py_res))\n",
    "    mse_list_py += [mean_squared_error(py_true,py_res)]\n",
    "    mse_py = mean_squared_error(py_true,py_res)\n",
    "\n",
    "\n",
    "    dic_new = {'train_loss': train_loss, 'valid_loss': valid_loss, 'valid_accuracy': valid_accuracy, 'valid_loss_list': valid_loss, 'mse_mechanism': mse, 'mse_py': mse_py, 'acc_0': save_perc[0], 'acc_1': save_perc[1], 'acc_2': save_perc[2], 'acc_3': save_perc[3], 'acc_4': save_perc[4]}#, 'acc_5': save_perc[5], 'acc_6': save_perc[6]}#, 'acc_7': save_perc[7], 'acc_8': save_perc[8], 'acc_9': save_perc[9]}\n",
    "    dic_sav.append(dic_new)\n",
    "    \n",
    "dic_sav = pd.DataFrame.from_records(dic_sav)\n",
    "\n",
    "dic_sav.to_csv(os.path.join('save_results.csv'), index = False, header=True)"
   ]
  },
  {
   "cell_type": "code",
   "execution_count": null,
   "metadata": {},
   "outputs": [],
   "source": [
    "#model_test = Net()\n",
    "model_test = medNet(n_channels, n_classes)\n",
    "model_test = model_test.to(device)\n",
    "model_test.load_state_dict(model_min)\n",
    "test(model_test,device,test_loader,classes,batch_size_t,n_classes)"
   ]
  },
  {
   "cell_type": "code",
   "execution_count": null,
   "metadata": {},
   "outputs": [],
   "source": [
    "#model_test = Net()\n",
    "model_test = medNet(n_channels, n_classes)\n",
    "model_test = model_test.to(device)\n",
    "model_test.load_state_dict(model_min_acc)\n",
    "test(model_test,device,test_loader,classes,batch_size_t,n_classes)"
   ]
  }
 ],
 "metadata": {
  "colab": {
   "provenance": []
  },
  "gpuClass": "standard",
  "kernelspec": {
   "display_name": "Python 3 (ipykernel)",
   "language": "python",
   "name": "python3"
  },
  "language_info": {
   "codemirror_mode": {
    "name": "ipython",
    "version": 3
   },
   "file_extension": ".py",
   "mimetype": "text/x-python",
   "name": "python",
   "nbconvert_exporter": "python",
   "pygments_lexer": "ipython3",
   "version": "3.7.3"
  },
  "toc": {
   "base_numbering": 1,
   "nav_menu": {},
   "number_sections": true,
   "sideBar": true,
   "skip_h1_title": false,
   "title_cell": "Table of Contents",
   "title_sidebar": "Contents",
   "toc_cell": false,
   "toc_position": {},
   "toc_section_display": true,
   "toc_window_display": false
  },
  "widgets": {
   "application/vnd.jupyter.widget-state+json": {
    "1141c4cd10a9464ba18429a9a347db0e": {
     "model_module": "@jupyter-widgets/controls",
     "model_module_version": "1.5.0",
     "model_name": "HTMLModel",
     "state": {
      "_dom_classes": [],
      "_model_module": "@jupyter-widgets/controls",
      "_model_module_version": "1.5.0",
      "_model_name": "HTMLModel",
      "_view_count": null,
      "_view_module": "@jupyter-widgets/controls",
      "_view_module_version": "1.5.0",
      "_view_name": "HTMLView",
      "description": "",
      "description_tooltip": null,
      "layout": "IPY_MODEL_564d1530f430491f800e3955722bccd7",
      "placeholder": "​",
      "style": "IPY_MODEL_f2c9f791070640c28216e03432c60ba7",
      "value": " 19725078/19725078 [00:01&lt;00:00, 25801078.69it/s]"
     }
    },
    "1c9d99564d1947119b5b822ca6e40bd6": {
     "model_module": "@jupyter-widgets/controls",
     "model_module_version": "1.5.0",
     "model_name": "FloatProgressModel",
     "state": {
      "_dom_classes": [],
      "_model_module": "@jupyter-widgets/controls",
      "_model_module_version": "1.5.0",
      "_model_name": "FloatProgressModel",
      "_view_count": null,
      "_view_module": "@jupyter-widgets/controls",
      "_view_module_version": "1.5.0",
      "_view_name": "ProgressView",
      "bar_style": "success",
      "description": "",
      "description_tooltip": null,
      "layout": "IPY_MODEL_d64f8af7d78449eca6c8194ebf0d70ab",
      "max": 19725078,
      "min": 0,
      "orientation": "horizontal",
      "style": "IPY_MODEL_c0268d02be0e445283d4fb90d7d47db4",
      "value": 19725078
     }
    },
    "252d5eddfb214044ba4b80dadb80ae83": {
     "model_module": "@jupyter-widgets/base",
     "model_module_version": "1.2.0",
     "model_name": "LayoutModel",
     "state": {
      "_model_module": "@jupyter-widgets/base",
      "_model_module_version": "1.2.0",
      "_model_name": "LayoutModel",
      "_view_count": null,
      "_view_module": "@jupyter-widgets/base",
      "_view_module_version": "1.2.0",
      "_view_name": "LayoutView",
      "align_content": null,
      "align_items": null,
      "align_self": null,
      "border": null,
      "bottom": null,
      "display": null,
      "flex": null,
      "flex_flow": null,
      "grid_area": null,
      "grid_auto_columns": null,
      "grid_auto_flow": null,
      "grid_auto_rows": null,
      "grid_column": null,
      "grid_gap": null,
      "grid_row": null,
      "grid_template_areas": null,
      "grid_template_columns": null,
      "grid_template_rows": null,
      "height": null,
      "justify_content": null,
      "justify_items": null,
      "left": null,
      "margin": null,
      "max_height": null,
      "max_width": null,
      "min_height": null,
      "min_width": null,
      "object_fit": null,
      "object_position": null,
      "order": null,
      "overflow": null,
      "overflow_x": null,
      "overflow_y": null,
      "padding": null,
      "right": null,
      "top": null,
      "visibility": null,
      "width": null
     }
    },
    "331cd3d57a904f09a072c75421c4379c": {
     "model_module": "@jupyter-widgets/controls",
     "model_module_version": "1.5.0",
     "model_name": "HBoxModel",
     "state": {
      "_dom_classes": [],
      "_model_module": "@jupyter-widgets/controls",
      "_model_module_version": "1.5.0",
      "_model_name": "HBoxModel",
      "_view_count": null,
      "_view_module": "@jupyter-widgets/controls",
      "_view_module_version": "1.5.0",
      "_view_name": "HBoxView",
      "box_style": "",
      "children": [
       "IPY_MODEL_ed7d98cc5c1f4cfc83009119f199e388",
       "IPY_MODEL_1c9d99564d1947119b5b822ca6e40bd6",
       "IPY_MODEL_1141c4cd10a9464ba18429a9a347db0e"
      ],
      "layout": "IPY_MODEL_252d5eddfb214044ba4b80dadb80ae83"
     }
    },
    "385056996a84445d8a59f76b44be4529": {
     "model_module": "@jupyter-widgets/controls",
     "model_module_version": "1.5.0",
     "model_name": "DescriptionStyleModel",
     "state": {
      "_model_module": "@jupyter-widgets/controls",
      "_model_module_version": "1.5.0",
      "_model_name": "DescriptionStyleModel",
      "_view_count": null,
      "_view_module": "@jupyter-widgets/base",
      "_view_module_version": "1.2.0",
      "_view_name": "StyleView",
      "description_width": ""
     }
    },
    "564d1530f430491f800e3955722bccd7": {
     "model_module": "@jupyter-widgets/base",
     "model_module_version": "1.2.0",
     "model_name": "LayoutModel",
     "state": {
      "_model_module": "@jupyter-widgets/base",
      "_model_module_version": "1.2.0",
      "_model_name": "LayoutModel",
      "_view_count": null,
      "_view_module": "@jupyter-widgets/base",
      "_view_module_version": "1.2.0",
      "_view_name": "LayoutView",
      "align_content": null,
      "align_items": null,
      "align_self": null,
      "border": null,
      "bottom": null,
      "display": null,
      "flex": null,
      "flex_flow": null,
      "grid_area": null,
      "grid_auto_columns": null,
      "grid_auto_flow": null,
      "grid_auto_rows": null,
      "grid_column": null,
      "grid_gap": null,
      "grid_row": null,
      "grid_template_areas": null,
      "grid_template_columns": null,
      "grid_template_rows": null,
      "height": null,
      "justify_content": null,
      "justify_items": null,
      "left": null,
      "margin": null,
      "max_height": null,
      "max_width": null,
      "min_height": null,
      "min_width": null,
      "object_fit": null,
      "object_position": null,
      "order": null,
      "overflow": null,
      "overflow_x": null,
      "overflow_y": null,
      "padding": null,
      "right": null,
      "top": null,
      "visibility": null,
      "width": null
     }
    },
    "c0268d02be0e445283d4fb90d7d47db4": {
     "model_module": "@jupyter-widgets/controls",
     "model_module_version": "1.5.0",
     "model_name": "ProgressStyleModel",
     "state": {
      "_model_module": "@jupyter-widgets/controls",
      "_model_module_version": "1.5.0",
      "_model_name": "ProgressStyleModel",
      "_view_count": null,
      "_view_module": "@jupyter-widgets/base",
      "_view_module_version": "1.2.0",
      "_view_name": "StyleView",
      "bar_color": null,
      "description_width": ""
     }
    },
    "d64f8af7d78449eca6c8194ebf0d70ab": {
     "model_module": "@jupyter-widgets/base",
     "model_module_version": "1.2.0",
     "model_name": "LayoutModel",
     "state": {
      "_model_module": "@jupyter-widgets/base",
      "_model_module_version": "1.2.0",
      "_model_name": "LayoutModel",
      "_view_count": null,
      "_view_module": "@jupyter-widgets/base",
      "_view_module_version": "1.2.0",
      "_view_name": "LayoutView",
      "align_content": null,
      "align_items": null,
      "align_self": null,
      "border": null,
      "bottom": null,
      "display": null,
      "flex": null,
      "flex_flow": null,
      "grid_area": null,
      "grid_auto_columns": null,
      "grid_auto_flow": null,
      "grid_auto_rows": null,
      "grid_column": null,
      "grid_gap": null,
      "grid_row": null,
      "grid_template_areas": null,
      "grid_template_columns": null,
      "grid_template_rows": null,
      "height": null,
      "justify_content": null,
      "justify_items": null,
      "left": null,
      "margin": null,
      "max_height": null,
      "max_width": null,
      "min_height": null,
      "min_width": null,
      "object_fit": null,
      "object_position": null,
      "order": null,
      "overflow": null,
      "overflow_x": null,
      "overflow_y": null,
      "padding": null,
      "right": null,
      "top": null,
      "visibility": null,
      "width": null
     }
    },
    "d708e3408cf3450abc9475901aa312e6": {
     "model_module": "@jupyter-widgets/base",
     "model_module_version": "1.2.0",
     "model_name": "LayoutModel",
     "state": {
      "_model_module": "@jupyter-widgets/base",
      "_model_module_version": "1.2.0",
      "_model_name": "LayoutModel",
      "_view_count": null,
      "_view_module": "@jupyter-widgets/base",
      "_view_module_version": "1.2.0",
      "_view_name": "LayoutView",
      "align_content": null,
      "align_items": null,
      "align_self": null,
      "border": null,
      "bottom": null,
      "display": null,
      "flex": null,
      "flex_flow": null,
      "grid_area": null,
      "grid_auto_columns": null,
      "grid_auto_flow": null,
      "grid_auto_rows": null,
      "grid_column": null,
      "grid_gap": null,
      "grid_row": null,
      "grid_template_areas": null,
      "grid_template_columns": null,
      "grid_template_rows": null,
      "height": null,
      "justify_content": null,
      "justify_items": null,
      "left": null,
      "margin": null,
      "max_height": null,
      "max_width": null,
      "min_height": null,
      "min_width": null,
      "object_fit": null,
      "object_position": null,
      "order": null,
      "overflow": null,
      "overflow_x": null,
      "overflow_y": null,
      "padding": null,
      "right": null,
      "top": null,
      "visibility": null,
      "width": null
     }
    },
    "ed7d98cc5c1f4cfc83009119f199e388": {
     "model_module": "@jupyter-widgets/controls",
     "model_module_version": "1.5.0",
     "model_name": "HTMLModel",
     "state": {
      "_dom_classes": [],
      "_model_module": "@jupyter-widgets/controls",
      "_model_module_version": "1.5.0",
      "_model_name": "HTMLModel",
      "_view_count": null,
      "_view_module": "@jupyter-widgets/controls",
      "_view_module_version": "1.5.0",
      "_view_name": "HTMLView",
      "description": "",
      "description_tooltip": null,
      "layout": "IPY_MODEL_d708e3408cf3450abc9475901aa312e6",
      "placeholder": "​",
      "style": "IPY_MODEL_385056996a84445d8a59f76b44be4529",
      "value": "100%"
     }
    },
    "f2c9f791070640c28216e03432c60ba7": {
     "model_module": "@jupyter-widgets/controls",
     "model_module_version": "1.5.0",
     "model_name": "DescriptionStyleModel",
     "state": {
      "_model_module": "@jupyter-widgets/controls",
      "_model_module_version": "1.5.0",
      "_model_name": "DescriptionStyleModel",
      "_view_count": null,
      "_view_module": "@jupyter-widgets/base",
      "_view_module_version": "1.2.0",
      "_view_name": "StyleView",
      "description_width": ""
     }
    }
   }
  }
 },
 "nbformat": 4,
 "nbformat_minor": 1
}
